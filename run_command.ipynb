{
 "cells": [
  {
   "cell_type": "code",
   "execution_count": 1,
   "metadata": {},
   "outputs": [
    {
     "name": "stdout",
     "output_type": "stream",
     "text": [
      "Dataset ready\n",
      "Training dataset size: 7866\n",
      "Validation dataset size: 874\n",
      "Test dataset size: 5828\n",
      "Start training\n"
     ]
    },
    {
     "name": "stderr",
     "output_type": "stream",
     "text": [
      "\n",
      "Epoch 1/100:   0%|          | 0/246 [00:00<?, ?it/s]\n",
      "Epoch 1/100:   0%|          | 0/246 [00:17<?, ?it/s]\n",
      "Traceback (most recent call last):\n",
      "  File \"c:\\Users\\khsfu\\Desktop\\develop\\Lung-Sound-Anomaly-Detection\\RDLINet\\rdlinet_main.py\", line 276, in <module>\n",
      "    train_and_evaluate()\n",
      "  File \"c:\\Users\\khsfu\\Desktop\\develop\\Lung-Sound-Anomaly-Detection\\RDLINet\\rdlinet_main.py\", line 155, in train_and_evaluate\n",
      "    for images, labels in tqdm(train_loader, desc=f\"Epoch {epoch+1}/{num_epochs}\"):\n",
      "  File \"c:\\Users\\khsfu\\anaconda3\\envs\\icbhi\\Lib\\site-packages\\tqdm\\std.py\", line 1181, in __iter__\n",
      "    for obj in iterable:\n",
      "  File \"c:\\Users\\khsfu\\anaconda3\\envs\\icbhi\\Lib\\site-packages\\torch\\utils\\data\\dataloader.py\", line 631, in __next__\n",
      "    data = self._next_data()\n",
      "           ^^^^^^^^^^^^^^^^^\n",
      "  File \"c:\\Users\\khsfu\\anaconda3\\envs\\icbhi\\Lib\\site-packages\\torch\\utils\\data\\dataloader.py\", line 1346, in _next_data\n",
      "    return self._process_data(data)\n",
      "           ^^^^^^^^^^^^^^^^^^^^^^^^\n",
      "  File \"c:\\Users\\khsfu\\anaconda3\\envs\\icbhi\\Lib\\site-packages\\torch\\utils\\data\\dataloader.py\", line 1372, in _process_data\n",
      "    data.reraise()\n",
      "  File \"c:\\Users\\khsfu\\anaconda3\\envs\\icbhi\\Lib\\site-packages\\torch\\_utils.py\", line 705, in reraise\n",
      "    raise exception\n",
      "PIL.UnidentifiedImageError: Caught UnidentifiedImageError in DataLoader worker process 0.\n",
      "Original Traceback (most recent call last):\n",
      "  File \"c:\\Users\\khsfu\\anaconda3\\envs\\icbhi\\Lib\\site-packages\\torch\\utils\\data\\_utils\\worker.py\", line 308, in _worker_loop\n",
      "    data = fetcher.fetch(index)  # type: ignore[possibly-undefined]\n",
      "           ^^^^^^^^^^^^^^^^^^^^\n",
      "  File \"c:\\Users\\khsfu\\anaconda3\\envs\\icbhi\\Lib\\site-packages\\torch\\utils\\data\\_utils\\fetch.py\", line 51, in fetch\n",
      "    data = [self.dataset[idx] for idx in possibly_batched_index]\n",
      "           ^^^^^^^^^^^^^^^^^^^^^^^^^^^^^^^^^^^^^^^^^^^^^^^^^^^^^\n",
      "  File \"c:\\Users\\khsfu\\anaconda3\\envs\\icbhi\\Lib\\site-packages\\torch\\utils\\data\\_utils\\fetch.py\", line 51, in <listcomp>\n",
      "    data = [self.dataset[idx] for idx in possibly_batched_index]\n",
      "            ~~~~~~~~~~~~^^^^^\n",
      "  File \"c:\\Users\\khsfu\\Desktop\\develop\\Lung-Sound-Anomaly-Detection\\RDLINet\\rdlinet_main.py\", line 61, in __getitem__\n",
      "    image = Image.open(image_path).convert('RGB')\n",
      "            ^^^^^^^^^^^^^^^^^^^^^^\n",
      "  File \"c:\\Users\\khsfu\\anaconda3\\envs\\icbhi\\Lib\\site-packages\\PIL\\Image.py\", line 3339, in open\n",
      "    raise UnidentifiedImageError(msg)\n",
      "PIL.UnidentifiedImageError: cannot identify image file 'C:\\\\Users\\\\khsfu\\\\Desktop\\\\develop\\\\Lung-Sound-Anomaly-Detection\\\\Aug\\\\Task1_2\\\\both\\\\image_4285.jpg'\n",
      "\n"
     ]
    }
   ],
   "source": [
    "!python RDLINet\\rdlinet_main.py"
   ]
  },
  {
   "cell_type": "code",
   "execution_count": null,
   "metadata": {},
   "outputs": [],
   "source": [
    "!python RDLINet\\rdlinet_main_2class.py"
   ]
  },
  {
   "cell_type": "code",
   "execution_count": null,
   "metadata": {},
   "outputs": [],
   "source": [
    "!python RDLINet\\rdlinet_kfold_main.py"
   ]
  },
  {
   "cell_type": "code",
   "execution_count": null,
   "metadata": {},
   "outputs": [],
   "source": [
    "!python RDLINet\\rdlinet_kfold_main_2class.py"
   ]
  }
 ],
 "metadata": {
  "kernelspec": {
   "display_name": "icbhi",
   "language": "python",
   "name": "python3"
  },
  "language_info": {
   "codemirror_mode": {
    "name": "ipython",
    "version": 3
   },
   "file_extension": ".py",
   "mimetype": "text/x-python",
   "name": "python",
   "nbconvert_exporter": "python",
   "pygments_lexer": "ipython3",
   "version": "3.11.8"
  }
 },
 "nbformat": 4,
 "nbformat_minor": 2
}
